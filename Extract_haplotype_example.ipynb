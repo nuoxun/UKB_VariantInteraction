{
 "cells": [
  {
   "cell_type": "code",
   "execution_count": null,
   "metadata": {},
   "outputs": [],
   "source": [
    "import vcfpy\n",
    "import pandas as pd\n",
    "# SHAPEIT Phased VCFs (ukb20279)\n",
    "reader = vcfpy.Reader.from_path(\"/mnt/project/Bulk/Previous WGS releases/GATK and GraphTyper WGS/SHAPEIT Phased VCFs/ukb20279_c16_b0_v1.vcf.gz\")\n",
    "header = reader.header.samples.names\n",
    "# extract phased genotype for specific loci\n",
    "gt=[]\n",
    "for record in reader.fetch('chr16',68347215,68347216):\n",
    "    for call in record.calls:\n",
    "        gt.append(call.gt['GT'])\n",
    "\n",
    "d = {'eid': pd.Series(header), 'gt': pd.Series(gt)}\n",
    "df = pd.DataFrame(d)\n",
    "df.to_csv('chr16.68347216.csv',index=False)"
   ]
  }
 ],
 "metadata": {
  "language_info": {
   "name": "python"
  }
 },
 "nbformat": 4,
 "nbformat_minor": 2
}
