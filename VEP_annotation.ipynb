{
 "cells": [
  {
   "cell_type": "code",
   "execution_count": null,
   "metadata": {},
   "outputs": [],
   "source": [
    "# Code to annotate variants with VEP on UKB RAP\n",
    "# initiate hail and spark\n",
    "from pyspark.sql import SparkSession\n",
    "import hail as hl\n",
    "builder = (\n",
    "    SparkSession\n",
    "    .builder\n",
    "    .enableHiveSupport()\n",
    ")\n",
    "spark = builder.getOrCreate()\n",
    "hl.init(sc=spark.sparkContext)\n",
    "import dxpy\n",
    "\n",
    "# build database on RAP\n",
    "db_name = \"ukb23157_pvcf_annotation\"\n",
    "stmt = f\"CREATE DATABASE IF NOT EXISTS {db_name} LOCATION 'dnax://'\" \n",
    "spark.sql(stmt).show()\n",
    "\n",
    "# vep annotation\n",
    "for i in block_list:\n",
    "    # read pvcf file\n",
    "    file_url =  \"file:///mnt/project/Bulk/Exome sequences/Population level exome OQFE variants, pVCF format - final release/\"+str(i)+\"_v1.vcf.gz\"\n",
    "    mt = hl.import_vcf(file_url, force_bgz=True, reference_genome=\"GRCh38\", array_elements_required=False)\n",
    "    # annotate\n",
    "    annotated_mt = hl.vep(mt,\"file:///opt/notebooks/vep-GRCh38.json\", csq=True)\n",
    "    # upload annotated mt to database\n",
    "    mt_name = str(i)+\"_annotated_mt\"\n",
    "    db_uri = dxpy.find_one_data_object(name=f\"{db_name}\",classname=\"database\")['id']\n",
    "    url = f\"dnax://{db_uri}/{mt_name}\"\n",
    "    annotated_mt.write(url,overwrite=True)"
   ]
  }
 ],
 "metadata": {
  "language_info": {
   "name": "python"
  },
  "orig_nbformat": 4
 },
 "nbformat": 4,
 "nbformat_minor": 2
}
